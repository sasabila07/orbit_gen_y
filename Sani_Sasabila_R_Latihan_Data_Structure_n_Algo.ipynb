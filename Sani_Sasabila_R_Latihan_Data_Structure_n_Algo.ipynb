{
  "nbformat": 4,
  "nbformat_minor": 0,
  "metadata": {
    "colab": {
      "name": "Sani Sasabila R_Latihan Data Structure n Algo.ipynb",
      "provenance": [],
      "authorship_tag": "ABX9TyNFB49z18cL+UHReRVPLIBz",
      "include_colab_link": true
    },
    "kernelspec": {
      "name": "python3",
      "display_name": "Python 3"
    },
    "language_info": {
      "name": "python"
    }
  },
  "cells": [
    {
      "cell_type": "markdown",
      "metadata": {
        "id": "view-in-github",
        "colab_type": "text"
      },
      "source": [
        "<a href=\"https://colab.research.google.com/github/sasabila07/orbit_gen_y/blob/main/Sani_Sasabila_R_Latihan_Data_Structure_n_Algo.ipynb\" target=\"_parent\"><img src=\"https://colab.research.google.com/assets/colab-badge.svg\" alt=\"Open In Colab\"/></a>"
      ]
    },
    {
      "cell_type": "markdown",
      "metadata": {
        "id": "ccGigMqyOQZk"
      },
      "source": [
        "### 1. If Bersarang \n",
        "#### Statemen seleksi if…else bersarang untuk beberapa kasus dilakukan dengan menempatkan statemen if…else didalam statemen if…else lain (penggunaan struktur if di dalam if)"
      ]
    },
    {
      "cell_type": "code",
      "metadata": {
        "colab": {
          "base_uri": "https://localhost:8080/"
        },
        "id": "cmimf5SIO0BJ",
        "outputId": "7e45af11-3c47-4b31-fa89-d44a4873ba69"
      },
      "source": [
        "a = 5\n",
        "b = 3\n",
        "\n",
        "if(a == b):\n",
        "  if(a != 5):\n",
        "    print(\"Nilai A sama dengan B namun bukan angka 5\")\n",
        "  else:\n",
        "    print(\"Nilai A sama dengan B\")\n",
        "elif(a < b):\n",
        "  print(\"Nilai A lebih kecil dari B\")\n",
        "else:\n",
        "  print(\"Nilai A lebih besar dari B\")"
      ],
      "execution_count": null,
      "outputs": [
        {
          "output_type": "stream",
          "name": "stdout",
          "text": [
            "Nilai A lebih besar dari B\n"
          ]
        }
      ]
    },
    {
      "cell_type": "markdown",
      "metadata": {
        "id": "yQ7Hb8roPCQU"
      },
      "source": [
        "### 2. Pass \n",
        "#### Statemen pass tidak melakukan proses apa-apa. Statement ini dapat digunakan ketika pernyataan diperlukan secara sintaksis tetapi program tidak memerlukan tindakan apapun (Tidak menginstruksi sistem untuk melakukan satu hal pun.)"
      ]
    },
    {
      "cell_type": "code",
      "metadata": {
        "colab": {
          "base_uri": "https://localhost:8080/"
        },
        "id": "Pa1Nl0wDO3a0",
        "outputId": "f974900c-4419-49bf-b9c0-c7aecf8d984b"
      },
      "source": [
        "x = 6\n",
        "\n",
        "if (x < 5):\n",
        "  x = 3\n",
        "  print(x)\n",
        "else:\n",
        "  pass\n",
        "\n",
        "if (x == 5):\n",
        "  x = 2\n",
        "  print(x)\n",
        "else:\n",
        "  print(\"lanjut\")"
      ],
      "execution_count": null,
      "outputs": [
        {
          "output_type": "stream",
          "name": "stdout",
          "text": [
            "lanjut\n"
          ]
        }
      ]
    },
    {
      "cell_type": "markdown",
      "metadata": {
        "id": "5a7AfoE8Pn2X"
      },
      "source": [
        "### 3. Defining Function \n",
        "#### Pernyataan def merupakan sebuah definisi fungsi (suatu cara untuk mendifinisikan sebuah method atau fungsi)"
      ]
    },
    {
      "cell_type": "code",
      "metadata": {
        "colab": {
          "base_uri": "https://localhost:8080/"
        },
        "id": "2xKNhRFDPbj3",
        "outputId": "6f954d1e-05e9-46e3-dd71-4537e56fa0d6"
      },
      "source": [
        "def fib(n):    \n",
        "  a, b = 0, 1  \n",
        "  while a < n:\n",
        "    print(a, end=' ')\n",
        "    a, b = b, a+b\n",
        "\n",
        "fib(100)"
      ],
      "execution_count": null,
      "outputs": [
        {
          "output_type": "stream",
          "name": "stdout",
          "text": [
            "0 1 1 2 3 5 8 13 21 34 55 89 "
          ]
        }
      ]
    },
    {
      "cell_type": "markdown",
      "metadata": {
        "id": "bWWnT1tGRED3"
      },
      "source": [
        "### 4. Break\n",
        "#### Perintah khusus yang dipakai untuk memaksa sebuah perulangan berhenti sebelum waktunya."
      ]
    },
    {
      "cell_type": "code",
      "metadata": {
        "colab": {
          "base_uri": "https://localhost:8080/"
        },
        "id": "seobZiZtQsVO",
        "outputId": "c3a754c4-1c20-4eec-e008-daaa849f31dd"
      },
      "source": [
        "list_kata = ['aku', 'belajar','python','sekarang']\n",
        "for kata in list_kata:\n",
        "    print(kata)\n",
        "    if kata == 'python':\n",
        "        break\n",
        "print('') "
      ],
      "execution_count": null,
      "outputs": [
        {
          "output_type": "stream",
          "name": "stdout",
          "text": [
            "aku\n",
            "belajar\n",
            "python\n",
            "\n"
          ]
        }
      ]
    },
    {
      "cell_type": "markdown",
      "metadata": {
        "id": "wnZHqE_gRylR"
      },
      "source": [
        "### 5. Continue\n",
        "#### Instruksi kepada python untuk menskip atau menlongkap barisan kode dan memulai dari awal lagi."
      ]
    },
    {
      "cell_type": "code",
      "metadata": {
        "colab": {
          "base_uri": "https://localhost:8080/"
        },
        "id": "G0F3ZfzERbxv",
        "outputId": "db798487-bc8b-4871-fd55-37ce2f746aa3"
      },
      "source": [
        "for i in range(7):\n",
        "    if i == 4:\n",
        "      continue\n",
        "    print(i)\n",
        "print(\"selesai\")\n",
        "\n",
        "# Continue di While loop\n",
        "i = 0\n",
        "while i < 7:\n",
        "  i += 1\n",
        "  if i == 4:\n",
        "      continue\n",
        "  print(i)"
      ],
      "execution_count": null,
      "outputs": [
        {
          "output_type": "stream",
          "name": "stdout",
          "text": [
            "0\n",
            "1\n",
            "2\n",
            "3\n",
            "5\n",
            "6\n",
            "selesai\n",
            "1\n",
            "2\n",
            "3\n",
            "5\n",
            "6\n",
            "7\n"
          ]
        }
      ]
    },
    {
      "cell_type": "markdown",
      "metadata": {
        "id": "6Okzr02zUS52"
      },
      "source": [
        "### 6. OOP\n",
        "#### Paradigma atau teknik pemrograman di mana semua hal dalam program dimodelkan seperti objek dalam dunia nyata."
      ]
    },
    {
      "cell_type": "code",
      "metadata": {
        "colab": {
          "base_uri": "https://localhost:8080/"
        },
        "id": "bZkCJhqITSzW",
        "outputId": "a5d12fef-4dff-4ed5-947d-2bfdb9dca56f"
      },
      "source": [
        "class persegi():\n",
        "  def __init__(self, nilai_panjang, nilai_lebar):\n",
        "    self.panjang = nilai_panjang\n",
        "    self.lebar = nilai_lebar\n",
        "  \n",
        "  def get_luas(self):\n",
        "    return 1 * self.panjang * self.lebar\n",
        "\n",
        "persegi1 = persegi(10, 3)\n",
        "persegi2 = persegi(7, 2)\n",
        "\n",
        "print('luas persegi1 :', persegi1.get_luas())\n",
        "print('luas persegi2:', persegi2.get_luas())"
      ],
      "execution_count": null,
      "outputs": [
        {
          "output_type": "stream",
          "name": "stdout",
          "text": [
            "luas persegi1 : 30\n",
            "luas persegi2: 14\n"
          ]
        }
      ]
    },
    {
      "cell_type": "markdown",
      "metadata": {
        "id": "ET4aqCXMU10p"
      },
      "source": [
        "### 6. Tree Traversal Algorithm\n",
        "#### Proses mengunjungi node tepat satu kali dan tiap node hanya boleh memiliki maksimal 2 subtree yang disebut sebagai sub pohon kiri (left subtree) dan sub pohon kanan (right subtree)."
      ]
    },
    {
      "cell_type": "code",
      "metadata": {
        "colab": {
          "base_uri": "https://localhost:8080/"
        },
        "id": "0cNBxejSUu_G",
        "outputId": "8edc0b94-4cbc-4960-ff76-6e11aad0ccd5"
      },
      "source": [
        "class Node:\n",
        "    def __init__(self, letter):\n",
        "        self.childleft = None\n",
        "        self.childright = None\n",
        "        self.nodedata = letter\n",
        "\n",
        "root = Node(1)\n",
        "root.childleft = Node(2)\n",
        "root.childright = Node(3)\n",
        "root.childleft.childleft = Node(4)\n",
        "root.childleft.childright = Node(5)\n",
        "\n",
        "# In-Order\n",
        "def InOrd(root):\n",
        "    if root:\n",
        "        InOrd(root.childleft)\n",
        "        print(root.nodedata)\n",
        "        InOrd(root.childright)\n",
        "InOrd(root)\n",
        "print(\"\")\n",
        "\n",
        "# Pre-Order\n",
        "def PreOrd(root):\n",
        "    if root:\n",
        "        #PreOrd(root.childleft)\n",
        "        PreOrd(root.childright)\n",
        "        print(root.nodedata)\n",
        "PreOrd(root)\n",
        "print(\"\")\n",
        "\n",
        "# Post-Order\n",
        "def PostOrd(root):\n",
        "    if root:\n",
        "        print(root.nodedata)\n",
        "        PostOrd(root.childleft)\n",
        "        PostOrd(root.childright)\n",
        "PostOrd(root)"
      ],
      "execution_count": null,
      "outputs": [
        {
          "output_type": "stream",
          "name": "stdout",
          "text": [
            "4\n",
            "2\n",
            "5\n",
            "1\n",
            "3\n",
            "\n",
            "3\n",
            "1\n",
            "\n",
            "1\n",
            "2\n",
            "4\n",
            "5\n",
            "3\n"
          ]
        }
      ]
    },
    {
      "cell_type": "markdown",
      "metadata": {
        "id": "7mcbi4Idef7e"
      },
      "source": [
        "### 7. Sorting Algorithm \n",
        "#### Algoritma pengurutan yang memang dirancang untuk mengurutkan data-data dalam jumlah yang sangat besar guna untuk mengefesiensi waktunya. \n",
        "### A. Merge Sort\n"
      ]
    },
    {
      "cell_type": "code",
      "metadata": {
        "colab": {
          "base_uri": "https://localhost:8080/"
        },
        "id": "nU9MbrleVkqS",
        "outputId": "804dbea1-efc2-4732-9633-802ac6e0fc31"
      },
      "source": [
        "def merge_sort(mylist, left, right):\n",
        "    if right -left > 1:\n",
        "        mid = (left + right) // 2\n",
        "        merge_sort(mylist, left, mid)\n",
        "        merge_sort(mylist, mid, right)\n",
        "        merge_list(mylist, left, mid, right)\n",
        "      \n",
        "\n",
        "def merge_list(mylist, left, mid, right):\n",
        "    leftlist = mylist[left:mid]\n",
        "    rightlist = mylist[mid:right]\n",
        "    k = left\n",
        "    i = 0\n",
        "    j = 0\n",
        "    while (left + i < mid and mid+ j < right):\n",
        "        if (leftlist[i] <= rightlist[j]):\n",
        "            mylist[k] = leftlist[i]\n",
        "            i += 1\n",
        "        else:\n",
        "            mylist[k] = rightlist[j]\n",
        "            j += 1\n",
        "        k += 1\n",
        "    if left + i < mid:\n",
        "        mylist[k] = leftlist[i]\n",
        "        i += 1\n",
        "        k += 1\n",
        "    else:\n",
        "        while k < right:\n",
        "            mylist[k] = rightlist[j]\n",
        "            j += 1\n",
        "            k += 1\n",
        "    \n",
        "\n",
        "mylist = [54,26,93,17,77,31,44,55,20]\n",
        "mylist = [int(x) for x in mylist]\n",
        "merge_sort(mylist, 0, len(mylist))\n",
        "print(mylist)\n"
      ],
      "execution_count": null,
      "outputs": [
        {
          "output_type": "stream",
          "name": "stdout",
          "text": [
            "[17, 20, 26, 31, 44, 54, 55, 77, 93]\n"
          ]
        }
      ]
    },
    {
      "cell_type": "markdown",
      "metadata": {
        "id": "yOpsJ-rDe2yb"
      },
      "source": [
        "### B. Bubble Sort\n",
        "\n"
      ]
    },
    {
      "cell_type": "code",
      "metadata": {
        "colab": {
          "base_uri": "https://localhost:8080/"
        },
        "id": "EcVMXdvaYCQ1",
        "outputId": "c2461d40-3097-4d79-8dd4-8fab9454fe35"
      },
      "source": [
        "def bubblesort(mylist):\n",
        "    n = len(mylist)\n",
        "\n",
        "    for i in range(n-1):\n",
        "\n",
        "        for j in range(i):\n",
        "            if mylist[j] > mylist[j + 1]:\n",
        "                temp = mylist[j + 1]\n",
        "                mylist[j] = mylist[j + 1]\n",
        "                mylist[j + 1] = temp\n",
        "        return mylist\n",
        "        \n",
        "mylist = [10, 4, 6, 9, 3, 1, 8]\n",
        "\n",
        "print(\"Sorted List is :\")\n",
        "for i in range(len(mylist)):\n",
        "    print(\"% d\" % mylist[i]),\n"
      ],
      "execution_count": null,
      "outputs": [
        {
          "output_type": "stream",
          "name": "stdout",
          "text": [
            "Sorted List is :\n",
            " 10\n",
            " 4\n",
            " 6\n",
            " 9\n",
            " 3\n",
            " 1\n",
            " 8\n"
          ]
        }
      ]
    },
    {
      "cell_type": "markdown",
      "metadata": {
        "id": "ATlKOJ8LaodB"
      },
      "source": [
        "### 8. Searching Algorithm \n",
        "#### Sistem menerima suatu nilai yang dicari, Jika nilai ditemukan, menampilkan data yang bersangkutan, Jika nilai tidak ditemukan, menampilkan pesan data tidak ditemukan \n",
        "#### A. Linear Search\n"
      ]
    },
    {
      "cell_type": "code",
      "metadata": {
        "id": "CRImcSr-gtY8",
        "colab": {
          "base_uri": "https://localhost:8080/"
        },
        "outputId": "0e3184ef-c625-47d6-e7b3-0234ca950f4e"
      },
      "source": [
        "mynum = 2\n",
        "\n",
        "def lin_search(yourlist, key):\n",
        "    \n",
        "    for index in range(0, len(yourlist)):\n",
        "        if (yourlist[index] == key):\n",
        "            print(\"Nilai ditemukan\")\n",
        "            return index\n",
        "    else: \n",
        "        return \"Nilai tidak ditemukan !\"\n",
        "\n",
        "yourlist = [1, 3, 5, 2, 8, 9, 10]\n",
        "\n",
        "lin_search(yourlist, mynum)"
      ],
      "execution_count": null,
      "outputs": [
        {
          "output_type": "stream",
          "name": "stdout",
          "text": [
            "Nilai ditemukan\n"
          ]
        },
        {
          "output_type": "execute_result",
          "data": {
            "text/plain": [
              "3"
            ]
          },
          "metadata": {},
          "execution_count": 22
        }
      ]
    },
    {
      "cell_type": "markdown",
      "metadata": {
        "id": "CgZUBxAmfTXZ"
      },
      "source": [
        " #### B. Linear Search\n"
      ]
    },
    {
      "cell_type": "code",
      "metadata": {
        "colab": {
          "base_uri": "https://localhost:8080/"
        },
        "id": "B1OmBod4dFeo",
        "outputId": "ce1a11d8-edee-4229-d6a0-b42b746a3d93"
      },
      "source": [
        "yournum = 4 \n",
        "mynum = 12\n",
        "\n",
        "\n",
        "def bin_search(mylist, key):\n",
        "    left = 0     \n",
        "    right = len(mylist)-1\n",
        "    matched = False\n",
        "    while(left<=right and not matched):\n",
        "\n",
        "        mid = (left+right)//2\n",
        "        if mylist[mid] == key:\n",
        "              matched = True\n",
        "        else:\n",
        "            if key < mylist[mid]:\n",
        "                right = mid -1\n",
        "            else:\n",
        "                left = mid + 1\n",
        "    return matched\n",
        "\n",
        "\n",
        "print(bin_search([2, 9, 3, 4, 7], yournum))\n",
        "print(bin_search([2, 9, 3, 4, 7], mynum))"
      ],
      "execution_count": null,
      "outputs": [
        {
          "output_type": "stream",
          "name": "stdout",
          "text": [
            "True\n",
            "False\n"
          ]
        }
      ]
    },
    {
      "cell_type": "code",
      "metadata": {
        "colab": {
          "base_uri": "https://localhost:8080/"
        },
        "id": "Z1xJPruKfmfJ",
        "outputId": "3ef1387c-a0f1-49e1-e5f6-401bd6bc7b0e"
      },
      "source": [
        "mylist = (\"matematika\")\n",
        "print(mylist[4:8])"
      ],
      "execution_count": null,
      "outputs": [
        {
          "output_type": "stream",
          "name": "stdout",
          "text": [
            "mati\n"
          ]
        }
      ]
    }
  ]
}